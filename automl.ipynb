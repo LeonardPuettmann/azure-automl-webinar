{
 "cells": [
  {
   "cell_type": "markdown",
   "metadata": {},
   "source": [
    "## Understanding the data"
   ]
  },
  {
   "cell_type": "markdown",
   "metadata": {},
   "source": [
    "https://www.kaggle.com/c/playground-series-s3e14"
   ]
  },
  {
   "cell_type": "code",
   "execution_count": null,
   "metadata": {},
   "outputs": [],
   "source": []
  },
  {
   "cell_type": "markdown",
   "metadata": {},
   "source": [
    "## Using the Azure SDK "
   ]
  },
  {
   "cell_type": "code",
   "execution_count": 2,
   "metadata": {},
   "outputs": [
    {
     "name": "stderr",
     "output_type": "stream",
     "text": [
      "Found the config file in: .\\config.json\n"
     ]
    }
   ],
   "source": [
    "from azure.identity import DefaultAzureCredential\n",
    "from azure.ai.ml import MLClient\n",
    "\n",
    "credential = DefaultAzureCredential()\n",
    "ml_client = MLClient.from_config(credential)"
   ]
  },
  {
   "cell_type": "code",
   "execution_count": 3,
   "metadata": {},
   "outputs": [
    {
     "data": {
      "text/plain": [
       "paths:\n",
       "- file: file://c:\\Users\\leopu\\OneDrive\\Programming\\Python\\azure\\azure-automl-webinar\\data\\train.csv\n",
       "transformations:\n",
       "- read_delimited:\n",
       "    delimiter: ','\n",
       "    empty_as_string: false\n",
       "    encoding: utf8\n",
       "    header: all_files_same_headers\n",
       "    include_path_column: false\n",
       "    infer_column_types: true\n",
       "    partition_size: 20971520\n",
       "    path_column: Path\n",
       "    support_multi_line: false\n",
       "type: mltable"
      ]
     },
     "execution_count": 3,
     "metadata": {},
     "output_type": "execute_result"
    }
   ],
   "source": [
    "import mltable\n",
    "\n",
    "paths = [\n",
    "    {\"file\": \"./data/train.csv\"}\n",
    "]\n",
    "\n",
    "train_table = mltable.from_delimited_files(paths)\n",
    "train_table.save('./data/train')"
   ]
  },
  {
   "cell_type": "code",
   "execution_count": 4,
   "metadata": {},
   "outputs": [],
   "source": [
    "#!az ml compute create -f compute.yml"
   ]
  },
  {
   "cell_type": "code",
   "execution_count": null,
   "metadata": {},
   "outputs": [],
   "source": [
    "# Compute Instances need to have a unique name across the region.\n",
    "# Here we create a unique name with current datetime\n",
    "from azure.ai.ml.entities import ComputeInstance, AmlCompute\n",
    "import datetime\n",
    "\n",
    "compute_name = \"automl-webinar\"\n",
    "ci_basic = ComputeInstance(\n",
    "    name=compute_name, \n",
    "    size=\"STANDARD_D2AS_V4\", # 2 cores, 8GB RAM, 16GB Storage\n",
    "    idle_time_before_shutdown_minutes=\"30\"\n",
    ")\n",
    "ml_client.begin_create_or_update(ci_basic).result()"
   ]
  },
  {
   "cell_type": "code",
   "execution_count": null,
   "metadata": {},
   "outputs": [],
   "source": [
    "from azure.ai.ml.constants import AssetTypes\n",
    "from azure.ai.ml import automl, Input\n",
    "\n",
    "# note that this is a code snippet -- you might have to modify the variable values to run it successfully\n",
    "\n",
    "# make an Input object for the training data\n",
    "training_data_input = Input(\n",
    "    type=AssetTypes.MLTABLE, path=\"./data/training-mltable-folder\"\n",
    ")\n",
    "\n",
    "# configure the classification job\n",
    "classification_job = automl.regression(\n",
    "    compute=compute_name,\n",
    "    experiment_name=\"automl-webinar-blueberry-prediction\",\n",
    "    training_data=training_data_input,\n",
    "    target_column_name=\"yield\",\n",
    "    primary_metric=\"mae\",\n",
    "    n_cross_validations=5,\n",
    "    enable_model_explainability=True,\n",
    "    tags={\"my_custom_tag\": \"My custom value\"}\n",
    ")\n",
    "\n",
    "# Limits are all optional\n",
    "classification_job.set_limits(\n",
    "    timeout_minutes=600, \n",
    "    trial_timeout_minutes=20, \n",
    "    max_trials=5,\n",
    "    enable_early_termination=True,\n",
    ")\n",
    "\n",
    "# Training properties are optional\n",
    "classification_job.set_training(\n",
    "    blocked_training_algorithms=[\"logistic_regression\"], \n",
    "    enable_onnx_compatible_models=True\n",
    ")"
   ]
  },
  {
   "cell_type": "markdown",
   "metadata": {},
   "source": [
    "## Alternatives to Azure AutoML"
   ]
  },
  {
   "cell_type": "markdown",
   "metadata": {},
   "source": []
  }
 ],
 "metadata": {
  "kernelspec": {
   "display_name": "sdk-v2",
   "language": "python",
   "name": "python3"
  },
  "language_info": {
   "codemirror_mode": {
    "name": "ipython",
    "version": 3
   },
   "file_extension": ".py",
   "mimetype": "text/x-python",
   "name": "python",
   "nbconvert_exporter": "python",
   "pygments_lexer": "ipython3",
   "version": "3.9.0"
  }
 },
 "nbformat": 4,
 "nbformat_minor": 2
}
